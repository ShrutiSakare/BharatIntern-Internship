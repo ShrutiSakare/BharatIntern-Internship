{
 "cells": [
  {
   "cell_type": "markdown",
   "metadata": {
    "papermill": {
     "duration": 0.0113,
     "end_time": "2021-03-06T01:19:02.189165",
     "exception": false,
     "start_time": "2021-03-06T01:19:02.177865",
     "status": "completed"
    },
    "tags": []
   },
   "source": [
    "# Task for Today  \n",
    "\n",
    "***\n",
    "\n",
    "## Cat and Dog Classification  \n",
    "\n",
    "Given *images of cats and dogs*, let's try to classify which **pet** is present in a given image.\n",
    "\n",
    "We will use a TensorFlow/Keras CNN to make our predictions."
   ]
  },
  {
   "cell_type": "markdown",
   "metadata": {
    "papermill": {
     "duration": 0.009648,
     "end_time": "2021-03-06T01:19:02.209342",
     "exception": false,
     "start_time": "2021-03-06T01:19:02.199694",
     "status": "completed"
    },
    "tags": []
   },
   "source": [
    "# Getting Started"
   ]
  },
  {
   "cell_type": "code",
   "execution_count": 1,
   "metadata": {
    "execution": {
     "iopub.execute_input": "2021-03-06T01:19:02.235414Z",
     "iopub.status.busy": "2021-03-06T01:19:02.234741Z",
     "iopub.status.idle": "2021-03-06T01:19:08.513867Z",
     "shell.execute_reply": "2021-03-06T01:19:08.512431Z"
    },
    "papermill": {
     "duration": 6.294965,
     "end_time": "2021-03-06T01:19:08.514152",
     "exception": false,
     "start_time": "2021-03-06T01:19:02.219187",
     "status": "completed"
    },
    "tags": []
   },
   "outputs": [],
   "source": [
    "import numpy as np\n",
    "import pandas as pd\n",
    "from pathlib import Path\n",
    "import os.path\n",
    "\n",
    "import matplotlib.pyplot as plt\n",
    "import seaborn as sns\n",
    "\n",
    "from sklearn.model_selection import train_test_split\n",
    "\n",
    "import tensorflow as tf\n",
    "\n",
    "from sklearn.metrics import confusion_matrix, classification_report"
   ]
  },
  {
   "cell_type": "code",
   "execution_count": 2,
   "metadata": {
    "execution": {
     "iopub.execute_input": "2021-03-06T01:19:08.543529Z",
     "iopub.status.busy": "2021-03-06T01:19:08.541998Z",
     "iopub.status.idle": "2021-03-06T01:19:08.544206Z",
     "shell.execute_reply": "2021-03-06T01:19:08.544800Z"
    },
    "papermill": {
     "duration": 0.019105,
     "end_time": "2021-03-06T01:19:08.545000",
     "exception": false,
     "start_time": "2021-03-06T01:19:08.525895",
     "status": "completed"
    },
    "tags": []
   },
   "outputs": [],
   "source": [
    "image_dir = Path('../input/cat-and-dog-images-dataset/Dog and Cat .png')"
   ]
  },
  {
   "cell_type": "markdown",
   "metadata": {
    "papermill": {
     "duration": 0.010663,
     "end_time": "2021-03-06T01:19:08.566689",
     "exception": false,
     "start_time": "2021-03-06T01:19:08.556026",
     "status": "completed"
    },
    "tags": []
   },
   "source": [
    "# Create File DataFrame"
   ]
  },
  {
   "cell_type": "code",
   "execution_count": 3,
   "metadata": {
    "execution": {
     "iopub.execute_input": "2021-03-06T01:19:08.595295Z",
     "iopub.status.busy": "2021-03-06T01:19:08.594521Z",
     "iopub.status.idle": "2021-03-06T01:19:08.930154Z",
     "shell.execute_reply": "2021-03-06T01:19:08.929524Z"
    },
    "papermill": {
     "duration": 0.352587,
     "end_time": "2021-03-06T01:19:08.930309",
     "exception": false,
     "start_time": "2021-03-06T01:19:08.577722",
     "status": "completed"
    },
    "tags": []
   },
   "outputs": [],
   "source": [
    "filepaths = list(image_dir.glob(r'**/*.png'))\n",
    "labels = list(map(lambda x: os.path.split(os.path.split(x)[0])[1], filepaths))\n",
    "\n",
    "filepaths = pd.Series(filepaths, name='Filepath').astype(str)\n",
    "labels = pd.Series(labels, name='Label')\n",
    "\n",
    "image_df = pd.concat([filepaths, labels], axis=1)"
   ]
  },
  {
   "cell_type": "code",
   "execution_count": 4,
   "metadata": {
    "execution": {
     "iopub.execute_input": "2021-03-06T01:19:08.962356Z",
     "iopub.status.busy": "2021-03-06T01:19:08.961457Z",
     "iopub.status.idle": "2021-03-06T01:19:08.979782Z",
     "shell.execute_reply": "2021-03-06T01:19:08.980278Z"
    },
    "papermill": {
     "duration": 0.038785,
     "end_time": "2021-03-06T01:19:08.980451",
     "exception": false,
     "start_time": "2021-03-06T01:19:08.941666",
     "status": "completed"
    },
    "tags": []
   },
   "outputs": [
    {
     "data": {
      "text/html": [
       "<div>\n",
       "<style scoped>\n",
       "    .dataframe tbody tr th:only-of-type {\n",
       "        vertical-align: middle;\n",
       "    }\n",
       "\n",
       "    .dataframe tbody tr th {\n",
       "        vertical-align: top;\n",
       "    }\n",
       "\n",
       "    .dataframe thead th {\n",
       "        text-align: right;\n",
       "    }\n",
       "</style>\n",
       "<table border=\"1\" class=\"dataframe\">\n",
       "  <thead>\n",
       "    <tr style=\"text-align: right;\">\n",
       "      <th></th>\n",
       "      <th>Filepath</th>\n",
       "      <th>Label</th>\n",
       "    </tr>\n",
       "  </thead>\n",
       "  <tbody>\n",
       "    <tr>\n",
       "      <th>0</th>\n",
       "      <td>../input/cat-and-dog-images-dataset/Dog and Ca...</td>\n",
       "      <td>Dog</td>\n",
       "    </tr>\n",
       "    <tr>\n",
       "      <th>1</th>\n",
       "      <td>../input/cat-and-dog-images-dataset/Dog and Ca...</td>\n",
       "      <td>Dog</td>\n",
       "    </tr>\n",
       "    <tr>\n",
       "      <th>2</th>\n",
       "      <td>../input/cat-and-dog-images-dataset/Dog and Ca...</td>\n",
       "      <td>Dog</td>\n",
       "    </tr>\n",
       "    <tr>\n",
       "      <th>3</th>\n",
       "      <td>../input/cat-and-dog-images-dataset/Dog and Ca...</td>\n",
       "      <td>Dog</td>\n",
       "    </tr>\n",
       "    <tr>\n",
       "      <th>4</th>\n",
       "      <td>../input/cat-and-dog-images-dataset/Dog and Ca...</td>\n",
       "      <td>Dog</td>\n",
       "    </tr>\n",
       "    <tr>\n",
       "      <th>...</th>\n",
       "      <td>...</td>\n",
       "      <td>...</td>\n",
       "    </tr>\n",
       "    <tr>\n",
       "      <th>994</th>\n",
       "      <td>../input/cat-and-dog-images-dataset/Dog and Ca...</td>\n",
       "      <td>Cat</td>\n",
       "    </tr>\n",
       "    <tr>\n",
       "      <th>995</th>\n",
       "      <td>../input/cat-and-dog-images-dataset/Dog and Ca...</td>\n",
       "      <td>Cat</td>\n",
       "    </tr>\n",
       "    <tr>\n",
       "      <th>996</th>\n",
       "      <td>../input/cat-and-dog-images-dataset/Dog and Ca...</td>\n",
       "      <td>Cat</td>\n",
       "    </tr>\n",
       "    <tr>\n",
       "      <th>997</th>\n",
       "      <td>../input/cat-and-dog-images-dataset/Dog and Ca...</td>\n",
       "      <td>Cat</td>\n",
       "    </tr>\n",
       "    <tr>\n",
       "      <th>998</th>\n",
       "      <td>../input/cat-and-dog-images-dataset/Dog and Ca...</td>\n",
       "      <td>Cat</td>\n",
       "    </tr>\n",
       "  </tbody>\n",
       "</table>\n",
       "<p>999 rows × 2 columns</p>\n",
       "</div>"
      ],
      "text/plain": [
       "                                              Filepath Label\n",
       "0    ../input/cat-and-dog-images-dataset/Dog and Ca...   Dog\n",
       "1    ../input/cat-and-dog-images-dataset/Dog and Ca...   Dog\n",
       "2    ../input/cat-and-dog-images-dataset/Dog and Ca...   Dog\n",
       "3    ../input/cat-and-dog-images-dataset/Dog and Ca...   Dog\n",
       "4    ../input/cat-and-dog-images-dataset/Dog and Ca...   Dog\n",
       "..                                                 ...   ...\n",
       "994  ../input/cat-and-dog-images-dataset/Dog and Ca...   Cat\n",
       "995  ../input/cat-and-dog-images-dataset/Dog and Ca...   Cat\n",
       "996  ../input/cat-and-dog-images-dataset/Dog and Ca...   Cat\n",
       "997  ../input/cat-and-dog-images-dataset/Dog and Ca...   Cat\n",
       "998  ../input/cat-and-dog-images-dataset/Dog and Ca...   Cat\n",
       "\n",
       "[999 rows x 2 columns]"
      ]
     },
     "execution_count": 4,
     "metadata": {},
     "output_type": "execute_result"
    }
   ],
   "source": [
    "image_df"
   ]
  },
  {
   "cell_type": "code",
   "execution_count": 5,
   "metadata": {
    "execution": {
     "iopub.execute_input": "2021-03-06T01:19:09.012359Z",
     "iopub.status.busy": "2021-03-06T01:19:09.010412Z",
     "iopub.status.idle": "2021-03-06T01:19:09.013203Z",
     "shell.execute_reply": "2021-03-06T01:19:09.013670Z"
    },
    "papermill": {
     "duration": 0.021244,
     "end_time": "2021-03-06T01:19:09.013819",
     "exception": false,
     "start_time": "2021-03-06T01:19:08.992575",
     "status": "completed"
    },
    "tags": []
   },
   "outputs": [],
   "source": [
    "train_df, test_df = train_test_split(image_df, train_size=0.7, shuffle=True, random_state=1)"
   ]
  },
  {
   "cell_type": "markdown",
   "metadata": {
    "papermill": {
     "duration": 0.011616,
     "end_time": "2021-03-06T01:19:09.037362",
     "exception": false,
     "start_time": "2021-03-06T01:19:09.025746",
     "status": "completed"
    },
    "tags": []
   },
   "source": [
    "# Load Image Data"
   ]
  },
  {
   "cell_type": "code",
   "execution_count": 6,
   "metadata": {
    "execution": {
     "iopub.execute_input": "2021-03-06T01:19:09.069964Z",
     "iopub.status.busy": "2021-03-06T01:19:09.067856Z",
     "iopub.status.idle": "2021-03-06T01:19:09.070762Z",
     "shell.execute_reply": "2021-03-06T01:19:09.071276Z"
    },
    "papermill": {
     "duration": 0.022091,
     "end_time": "2021-03-06T01:19:09.071425",
     "exception": false,
     "start_time": "2021-03-06T01:19:09.049334",
     "status": "completed"
    },
    "tags": []
   },
   "outputs": [],
   "source": [
    "train_generator = tf.keras.preprocessing.image.ImageDataGenerator(\n",
    "    rescale=1./255,\n",
    "    horizontal_flip=True,\n",
    "    width_shift_range=0.2,\n",
    "    height_shift_range=0.2,\n",
    "    validation_split=0.2\n",
    ")\n",
    "\n",
    "test_generator = tf.keras.preprocessing.image.ImageDataGenerator(\n",
    "    rescale=1./255\n",
    ")"
   ]
  },
  {
   "cell_type": "code",
   "execution_count": 7,
   "metadata": {
    "execution": {
     "iopub.execute_input": "2021-03-06T01:19:09.110936Z",
     "iopub.status.busy": "2021-03-06T01:19:09.109923Z",
     "iopub.status.idle": "2021-03-06T01:19:09.159676Z",
     "shell.execute_reply": "2021-03-06T01:19:09.160287Z"
    },
    "papermill": {
     "duration": 0.076711,
     "end_time": "2021-03-06T01:19:09.160505",
     "exception": false,
     "start_time": "2021-03-06T01:19:09.083794",
     "status": "completed"
    },
    "tags": []
   },
   "outputs": [
    {
     "name": "stdout",
     "output_type": "stream",
     "text": [
      "Found 560 validated image filenames belonging to 2 classes.\n",
      "Found 139 validated image filenames belonging to 2 classes.\n",
      "Found 300 validated image filenames belonging to 2 classes.\n"
     ]
    }
   ],
   "source": [
    "train_images = train_generator.flow_from_dataframe(\n",
    "    dataframe=train_df,\n",
    "    x_col='Filepath',\n",
    "    y_col='Label',\n",
    "    target_size=(224, 224),\n",
    "    color_mode='rgb',\n",
    "    class_mode='binary',\n",
    "    batch_size=32,\n",
    "    shuffle=True,\n",
    "    seed=42,\n",
    "    subset='training'\n",
    ")\n",
    "\n",
    "val_images = train_generator.flow_from_dataframe(\n",
    "    dataframe=train_df,\n",
    "    x_col='Filepath',\n",
    "    y_col='Label',\n",
    "    target_size=(224, 224),\n",
    "    color_mode='rgb',\n",
    "    class_mode='binary',\n",
    "    batch_size=32,\n",
    "    shuffle=True,\n",
    "    seed=42,\n",
    "    subset='validation'\n",
    ")\n",
    "\n",
    "test_images = test_generator.flow_from_dataframe(\n",
    "    dataframe=test_df,\n",
    "    x_col='Filepath',\n",
    "    y_col='Label',\n",
    "    target_size=(224, 224),\n",
    "    color_mode='rgb',\n",
    "    class_mode='binary',\n",
    "    batch_size=32,\n",
    "    shuffle=False\n",
    ")"
   ]
  },
  {
   "cell_type": "markdown",
   "metadata": {
    "papermill": {
     "duration": 0.012256,
     "end_time": "2021-03-06T01:19:09.186014",
     "exception": false,
     "start_time": "2021-03-06T01:19:09.173758",
     "status": "completed"
    },
    "tags": []
   },
   "source": [
    "# Training"
   ]
  },
  {
   "cell_type": "code",
   "execution_count": 8,
   "metadata": {
    "execution": {
     "iopub.execute_input": "2021-03-06T01:19:09.224999Z",
     "iopub.status.busy": "2021-03-06T01:19:09.224094Z",
     "iopub.status.idle": "2021-03-06T01:22:09.295802Z",
     "shell.execute_reply": "2021-03-06T01:22:09.294828Z"
    },
    "papermill": {
     "duration": 180.096764,
     "end_time": "2021-03-06T01:22:09.295967",
     "exception": false,
     "start_time": "2021-03-06T01:19:09.199203",
     "status": "completed"
    },
    "tags": []
   },
   "outputs": [
    {
     "name": "stdout",
     "output_type": "stream",
     "text": [
      "Epoch 1/100\n",
      "18/18 [==============================] - 19s 881ms/step - loss: 0.6931 - accuracy: 0.5271 - val_loss: 0.6911 - val_accuracy: 0.4964\n",
      "Epoch 2/100\n",
      "18/18 [==============================] - 11s 599ms/step - loss: 0.6908 - accuracy: 0.5291 - val_loss: 0.6854 - val_accuracy: 0.5971\n",
      "Epoch 3/100\n",
      "18/18 [==============================] - 11s 614ms/step - loss: 0.6812 - accuracy: 0.5987 - val_loss: 0.6822 - val_accuracy: 0.5899\n",
      "Epoch 4/100\n",
      "18/18 [==============================] - 10s 580ms/step - loss: 0.6659 - accuracy: 0.6469 - val_loss: 0.6713 - val_accuracy: 0.5827\n",
      "Epoch 5/100\n",
      "18/18 [==============================] - 10s 578ms/step - loss: 0.6728 - accuracy: 0.6030 - val_loss: 0.6763 - val_accuracy: 0.5324\n",
      "Epoch 6/100\n",
      "18/18 [==============================] - 11s 610ms/step - loss: 0.6609 - accuracy: 0.6322 - val_loss: 0.6873 - val_accuracy: 0.5036\n",
      "Epoch 7/100\n",
      "18/18 [==============================] - 10s 584ms/step - loss: 0.6714 - accuracy: 0.5948 - val_loss: 0.6969 - val_accuracy: 0.5036\n",
      "Epoch 8/100\n",
      "18/18 [==============================] - 10s 564ms/step - loss: 0.6451 - accuracy: 0.5923 - val_loss: 0.6603 - val_accuracy: 0.5827\n",
      "Epoch 9/100\n",
      "18/18 [==============================] - 10s 566ms/step - loss: 0.6413 - accuracy: 0.6195 - val_loss: 0.6558 - val_accuracy: 0.6475\n",
      "Epoch 10/100\n",
      "18/18 [==============================] - 11s 611ms/step - loss: 0.6609 - accuracy: 0.6083 - val_loss: 0.6584 - val_accuracy: 0.6475\n",
      "Epoch 11/100\n",
      "18/18 [==============================] - 10s 573ms/step - loss: 0.6632 - accuracy: 0.5793 - val_loss: 0.6532 - val_accuracy: 0.5683\n",
      "Epoch 12/100\n",
      "18/18 [==============================] - 10s 571ms/step - loss: 0.6551 - accuracy: 0.5867 - val_loss: 0.6575 - val_accuracy: 0.6043\n",
      "Epoch 13/100\n",
      "18/18 [==============================] - 11s 603ms/step - loss: 0.6506 - accuracy: 0.6276 - val_loss: 0.6613 - val_accuracy: 0.6259\n",
      "Epoch 14/100\n",
      "18/18 [==============================] - 10s 575ms/step - loss: 0.6565 - accuracy: 0.5944 - val_loss: 0.6576 - val_accuracy: 0.6043\n",
      "Epoch 15/100\n",
      "18/18 [==============================] - 10s 573ms/step - loss: 0.6360 - accuracy: 0.6431 - val_loss: 0.6558 - val_accuracy: 0.6187\n",
      "Epoch 16/100\n",
      "18/18 [==============================] - 11s 605ms/step - loss: 0.6472 - accuracy: 0.6170 - val_loss: 0.6552 - val_accuracy: 0.6115\n"
     ]
    }
   ],
   "source": [
    "inputs = tf.keras.Input(shape=(224, 224, 3))\n",
    "x = tf.keras.layers.Conv2D(filters=16, kernel_size=(3, 3), activation='relu')(inputs)\n",
    "x = tf.keras.layers.MaxPool2D()(x)\n",
    "x = tf.keras.layers.Conv2D(filters=32, kernel_size=(3, 3), activation='relu')(x)\n",
    "x = tf.keras.layers.MaxPool2D()(x)\n",
    "x = tf.keras.layers.GlobalAveragePooling2D()(x)\n",
    "x = tf.keras.layers.Dense(128, activation='relu')(x)\n",
    "x = tf.keras.layers.Dense(128, activation='relu')(x)\n",
    "outputs = tf.keras.layers.Dense(1, activation='sigmoid')(x)\n",
    "\n",
    "model = tf.keras.Model(inputs=inputs, outputs=outputs)\n",
    "\n",
    "model.compile(\n",
    "    optimizer='adam',\n",
    "    loss='binary_crossentropy',\n",
    "    metrics=['accuracy']\n",
    ")\n",
    "\n",
    "history = model.fit(\n",
    "    train_images,\n",
    "    validation_data=val_images,\n",
    "    epochs=100,\n",
    "    callbacks=[\n",
    "        tf.keras.callbacks.EarlyStopping(\n",
    "            monitor='val_loss',\n",
    "            patience=5,\n",
    "            restore_best_weights=True\n",
    "        ),\n",
    "        tf.keras.callbacks.ReduceLROnPlateau(\n",
    "            monitor='val_loss',\n",
    "            patience=3\n",
    "        )\n",
    "    ]\n",
    ")"
   ]
  },
  {
   "cell_type": "markdown",
   "metadata": {
    "papermill": {
     "duration": 0.113782,
     "end_time": "2021-03-06T01:22:09.522568",
     "exception": false,
     "start_time": "2021-03-06T01:22:09.408786",
     "status": "completed"
    },
    "tags": []
   },
   "source": [
    "# Results"
   ]
  },
  {
   "cell_type": "code",
   "execution_count": 9,
   "metadata": {
    "execution": {
     "iopub.execute_input": "2021-03-06T01:22:09.769136Z",
     "iopub.status.busy": "2021-03-06T01:22:09.768502Z",
     "iopub.status.idle": "2021-03-06T01:22:13.896840Z",
     "shell.execute_reply": "2021-03-06T01:22:13.895978Z"
    },
    "papermill": {
     "duration": 4.247158,
     "end_time": "2021-03-06T01:22:13.897045",
     "exception": false,
     "start_time": "2021-03-06T01:22:09.649887",
     "status": "completed"
    },
    "tags": []
   },
   "outputs": [
    {
     "name": "stdout",
     "output_type": "stream",
     "text": [
      "    Test Loss: 0.65611\n",
      "Test Accuracy: 62.33%\n"
     ]
    }
   ],
   "source": [
    "results = model.evaluate(test_images, verbose=0)\n",
    "\n",
    "print(\"    Test Loss: {:.5f}\".format(results[0]))\n",
    "print(\"Test Accuracy: {:.2f}%\".format(results[1] * 100))"
   ]
  },
  {
   "cell_type": "code",
   "execution_count": 10,
   "metadata": {
    "execution": {
     "iopub.execute_input": "2021-03-06T01:22:14.212206Z",
     "iopub.status.busy": "2021-03-06T01:22:14.210617Z",
     "iopub.status.idle": "2021-03-06T01:22:16.326347Z",
     "shell.execute_reply": "2021-03-06T01:22:16.325690Z"
    },
    "papermill": {
     "duration": 2.270814,
     "end_time": "2021-03-06T01:22:16.326523",
     "exception": false,
     "start_time": "2021-03-06T01:22:14.055709",
     "status": "completed"
    },
    "tags": []
   },
   "outputs": [
    {
     "data": {
      "image/png": "[encoded data removed]",
      "text/plain": [
       "<Figure size 432x432 with 1 Axes>"
      ]
     },
     "metadata": {
      "needs_background": "light"
     },
     "output_type": "display_data"
    },
    {
     "name": "stdout",
     "output_type": "stream",
     "text": [
      "Classification Report:\n",
      "----------------------\n",
      "               precision    recall  f1-score   support\n",
      "\n",
      "         CAT       0.64      0.56      0.60       151\n",
      "         DOG       0.61      0.68      0.64       149\n",
      "\n",
      "    accuracy                           0.62       300\n",
      "   macro avg       0.63      0.62      0.62       300\n",
      "weighted avg       0.63      0.62      0.62       300\n",
      "\n"
     ]
    }
   ],
   "source": [
    "predictions = (model.predict(test_images) >= 0.5).astype(np.int)\n",
    "\n",
    "cm = confusion_matrix(test_images.labels, predictions, labels=[0, 1])\n",
    "clr = classification_report(test_images.labels, predictions, labels=[0, 1], target_names=[\"CAT\", \"DOG\"])\n",
    "\n",
    "plt.figure(figsize=(6, 6))\n",
    "sns.heatmap(cm, annot=True, fmt='g', vmin=0, cmap='Blues', cbar=False)\n",
    "plt.xticks(ticks=[0.5, 1.5], labels=[\"CAT\", \"DOG\"])\n",
    "plt.yticks(ticks=[0.5, 1.5], labels=[\"CAT\", \"DOG\"])\n",
    "plt.xlabel(\"Predicted\")\n",
    "plt.ylabel(\"Actual\")\n",
    "plt.title(\"Confusion Matrix\")\n",
    "plt.show()\n",
    "\n",
    "print(\"Classification Report:\\n----------------------\\n\", clr)"
   ]
  },
  {
   "cell_type": "markdown",
   "metadata": {
    "papermill": {
     "duration": 0.113424,
     "end_time": "2021-03-06T01:22:16.554206",
     "exception": false,
     "start_time": "2021-03-06T01:22:16.440782",
     "status": "completed"
    },
    "tags": []
   },
   "source": [
    "# Data Every Day  \n",
    "\n",
    "This notebook is featured on Data Every Day, a YouTube series where I train models on a new dataset each day.  \n",
    "\n",
    "***\n",
    "\n",
    "Check it out!  \n",
    "https://youtu.be/jZVVFUhsbgY"
   ]
  }
 ],
 "metadata": {
  "kernelspec": {
   "display_name": "Python 3",
   "language": "python",
   "name": "python3"
  },
  "language_info": {
   "codemirror_mode": {
    "name": "ipython",
    "version": 3
   },
   "file_extension": ".py",
   "mimetype": "text/x-python",
   "name": "python",
   "nbconvert_exporter": "python",
   "pygments_lexer": "ipython3",
   "version": "3.7.9"
  },
  "papermill": {
   "default_parameters": {},
   "duration": 202.740622,
   "end_time": "2021-03-06T01:22:19.798014",
   "environment_variables": {},
   "exception": null,
   "input_path": "__notebook__.ipynb",
   "output_path": "__notebook__.ipynb",
   "parameters": {},
   "start_time": "2021-03-06T01:18:57.057392",
   "version": "2.2.2"
  }
 },
 "nbformat": 4,
 "nbformat_minor": 4
}
